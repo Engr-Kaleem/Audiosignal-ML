{
  "cells": [
    {
      "cell_type": "code",
      "execution_count": null,
      "metadata": {
        "id": "O-LARYvuGSR_"
      },
      "outputs": [],
      "source": [
        "import matplotlib.pyplot as plt\n",
        "from scipy.io import wavfile\n",
        "%matplotlib inline\n",
        "import numpy as np\n",
        "import IPython.display as ipd\n",
        "import librosa\n",
        "import librosa.display\n",
        "import scipy\n",
        "import sklearn\n",
        "import pandas as pd\n",
        "import base64\n",
        "import wave\n",
        "from wave import open as open_wave"
      ]
    },
    {
      "cell_type": "code",
      "source": [
        "from google.colab import drive\n",
        "drive.mount('/content/drive')"
      ],
      "metadata": {
        "colab": {
          "base_uri": "https://localhost:8080/"
        },
        "id": "vOcDvuMxKU2M",
        "outputId": "b2380425-8726-4d5f-d826-4b407e3c24bc"
      },
      "execution_count": null,
      "outputs": [
        {
          "output_type": "stream",
          "name": "stdout",
          "text": [
            "Mounted at /content/drive\n"
          ]
        }
      ]
    },
    {
      "cell_type": "code",
      "execution_count": null,
      "metadata": {
        "id": "Rgju0aS-GSSE"
      },
      "outputs": [],
      "source": [
        "#AJ's Voice Samples\n",
        "AJ_audio = \"/content/drive/MyDrive/Upwork/audioathuntication/AJ\"\n",
        "audio_list1 = librosa.util.find_files(AJ_audio, ext=['wav']) \n",
        "#Imposter'ss Voice Samples\n",
        "imposter_Audio = \"/content/drive/MyDrive/Upwork/audioathuntication/Imposter\"\n",
        "audio_list2 = librosa.util.find_files(imposter_Audio, ext=['wav'])"
      ]
    },
    {
      "cell_type": "code",
      "execution_count": null,
      "metadata": {
        "colab": {
          "base_uri": "https://localhost:8080/",
          "height": 206
        },
        "id": "zj9n-7Pigojm",
        "outputId": "57e1789c-1261-497b-a34f-76837b194643"
      },
      "outputs": [
        {
          "output_type": "execute_result",
          "data": {
            "text/html": [
              "\n",
              "  <div id=\"df-23c83952-142f-43d2-bbe9-9b4c47835bb2\">\n",
              "    <div class=\"colab-df-container\">\n",
              "      <div>\n",
              "<style scoped>\n",
              "    .dataframe tbody tr th:only-of-type {\n",
              "        vertical-align: middle;\n",
              "    }\n",
              "\n",
              "    .dataframe tbody tr th {\n",
              "        vertical-align: top;\n",
              "    }\n",
              "\n",
              "    .dataframe thead th {\n",
              "        text-align: right;\n",
              "    }\n",
              "</style>\n",
              "<table border=\"1\" class=\"dataframe\">\n",
              "  <thead>\n",
              "    <tr style=\"text-align: right;\">\n",
              "      <th></th>\n",
              "      <th>User</th>\n",
              "      <th>Average</th>\n",
              "      <th>std</th>\n",
              "      <th>zcr</th>\n",
              "      <th>centroid</th>\n",
              "      <th>rollof</th>\n",
              "      <th>mfcc1</th>\n",
              "      <th>mfcc2</th>\n",
              "      <th>mfcc3</th>\n",
              "      <th>mfcc4</th>\n",
              "      <th>mfcc5</th>\n",
              "      <th>mfcc6</th>\n",
              "      <th>mfcc7</th>\n",
              "      <th>mfcc8</th>\n",
              "      <th>mfcc9</th>\n",
              "      <th>mfcc10</th>\n",
              "      <th>mfcc11</th>\n",
              "      <th>mfcc12</th>\n",
              "      <th>mfcc13</th>\n",
              "      <th>mfcc14</th>\n",
              "      <th>label</th>\n",
              "    </tr>\n",
              "  </thead>\n",
              "  <tbody>\n",
              "    <tr>\n",
              "      <th>0</th>\n",
              "      <td>AJ</td>\n",
              "      <td>0.0</td>\n",
              "      <td>0.0</td>\n",
              "      <td>0.0</td>\n",
              "      <td>0.0</td>\n",
              "      <td>0.0</td>\n",
              "      <td>0.0</td>\n",
              "      <td>0.0</td>\n",
              "      <td>0.0</td>\n",
              "      <td>0.0</td>\n",
              "      <td>0.0</td>\n",
              "      <td>0.0</td>\n",
              "      <td>0.0</td>\n",
              "      <td>0.0</td>\n",
              "      <td>0.0</td>\n",
              "      <td>0.0</td>\n",
              "      <td>0.0</td>\n",
              "      <td>0.0</td>\n",
              "      <td>0.0</td>\n",
              "      <td>0.0</td>\n",
              "      <td>1.0</td>\n",
              "    </tr>\n",
              "    <tr>\n",
              "      <th>1</th>\n",
              "      <td>AJ</td>\n",
              "      <td>0.0</td>\n",
              "      <td>0.0</td>\n",
              "      <td>0.0</td>\n",
              "      <td>0.0</td>\n",
              "      <td>0.0</td>\n",
              "      <td>0.0</td>\n",
              "      <td>0.0</td>\n",
              "      <td>0.0</td>\n",
              "      <td>0.0</td>\n",
              "      <td>0.0</td>\n",
              "      <td>0.0</td>\n",
              "      <td>0.0</td>\n",
              "      <td>0.0</td>\n",
              "      <td>0.0</td>\n",
              "      <td>0.0</td>\n",
              "      <td>0.0</td>\n",
              "      <td>0.0</td>\n",
              "      <td>0.0</td>\n",
              "      <td>0.0</td>\n",
              "      <td>1.0</td>\n",
              "    </tr>\n",
              "    <tr>\n",
              "      <th>2</th>\n",
              "      <td>AJ</td>\n",
              "      <td>0.0</td>\n",
              "      <td>0.0</td>\n",
              "      <td>0.0</td>\n",
              "      <td>0.0</td>\n",
              "      <td>0.0</td>\n",
              "      <td>0.0</td>\n",
              "      <td>0.0</td>\n",
              "      <td>0.0</td>\n",
              "      <td>0.0</td>\n",
              "      <td>0.0</td>\n",
              "      <td>0.0</td>\n",
              "      <td>0.0</td>\n",
              "      <td>0.0</td>\n",
              "      <td>0.0</td>\n",
              "      <td>0.0</td>\n",
              "      <td>0.0</td>\n",
              "      <td>0.0</td>\n",
              "      <td>0.0</td>\n",
              "      <td>0.0</td>\n",
              "      <td>1.0</td>\n",
              "    </tr>\n",
              "    <tr>\n",
              "      <th>3</th>\n",
              "      <td>AJ</td>\n",
              "      <td>0.0</td>\n",
              "      <td>0.0</td>\n",
              "      <td>0.0</td>\n",
              "      <td>0.0</td>\n",
              "      <td>0.0</td>\n",
              "      <td>0.0</td>\n",
              "      <td>0.0</td>\n",
              "      <td>0.0</td>\n",
              "      <td>0.0</td>\n",
              "      <td>0.0</td>\n",
              "      <td>0.0</td>\n",
              "      <td>0.0</td>\n",
              "      <td>0.0</td>\n",
              "      <td>0.0</td>\n",
              "      <td>0.0</td>\n",
              "      <td>0.0</td>\n",
              "      <td>0.0</td>\n",
              "      <td>0.0</td>\n",
              "      <td>0.0</td>\n",
              "      <td>1.0</td>\n",
              "    </tr>\n",
              "    <tr>\n",
              "      <th>4</th>\n",
              "      <td>AJ</td>\n",
              "      <td>0.0</td>\n",
              "      <td>0.0</td>\n",
              "      <td>0.0</td>\n",
              "      <td>0.0</td>\n",
              "      <td>0.0</td>\n",
              "      <td>0.0</td>\n",
              "      <td>0.0</td>\n",
              "      <td>0.0</td>\n",
              "      <td>0.0</td>\n",
              "      <td>0.0</td>\n",
              "      <td>0.0</td>\n",
              "      <td>0.0</td>\n",
              "      <td>0.0</td>\n",
              "      <td>0.0</td>\n",
              "      <td>0.0</td>\n",
              "      <td>0.0</td>\n",
              "      <td>0.0</td>\n",
              "      <td>0.0</td>\n",
              "      <td>0.0</td>\n",
              "      <td>1.0</td>\n",
              "    </tr>\n",
              "  </tbody>\n",
              "</table>\n",
              "</div>\n",
              "      <button class=\"colab-df-convert\" onclick=\"convertToInteractive('df-23c83952-142f-43d2-bbe9-9b4c47835bb2')\"\n",
              "              title=\"Convert this dataframe to an interactive table.\"\n",
              "              style=\"display:none;\">\n",
              "        \n",
              "  <svg xmlns=\"http://www.w3.org/2000/svg\" height=\"24px\"viewBox=\"0 0 24 24\"\n",
              "       width=\"24px\">\n",
              "    <path d=\"M0 0h24v24H0V0z\" fill=\"none\"/>\n",
              "    <path d=\"M18.56 5.44l.94 2.06.94-2.06 2.06-.94-2.06-.94-.94-2.06-.94 2.06-2.06.94zm-11 1L8.5 8.5l.94-2.06 2.06-.94-2.06-.94L8.5 2.5l-.94 2.06-2.06.94zm10 10l.94 2.06.94-2.06 2.06-.94-2.06-.94-.94-2.06-.94 2.06-2.06.94z\"/><path d=\"M17.41 7.96l-1.37-1.37c-.4-.4-.92-.59-1.43-.59-.52 0-1.04.2-1.43.59L10.3 9.45l-7.72 7.72c-.78.78-.78 2.05 0 2.83L4 21.41c.39.39.9.59 1.41.59.51 0 1.02-.2 1.41-.59l7.78-7.78 2.81-2.81c.8-.78.8-2.07 0-2.86zM5.41 20L4 18.59l7.72-7.72 1.47 1.35L5.41 20z\"/>\n",
              "  </svg>\n",
              "      </button>\n",
              "      \n",
              "  <style>\n",
              "    .colab-df-container {\n",
              "      display:flex;\n",
              "      flex-wrap:wrap;\n",
              "      gap: 12px;\n",
              "    }\n",
              "\n",
              "    .colab-df-convert {\n",
              "      background-color: #E8F0FE;\n",
              "      border: none;\n",
              "      border-radius: 50%;\n",
              "      cursor: pointer;\n",
              "      display: none;\n",
              "      fill: #1967D2;\n",
              "      height: 32px;\n",
              "      padding: 0 0 0 0;\n",
              "      width: 32px;\n",
              "    }\n",
              "\n",
              "    .colab-df-convert:hover {\n",
              "      background-color: #E2EBFA;\n",
              "      box-shadow: 0px 1px 2px rgba(60, 64, 67, 0.3), 0px 1px 3px 1px rgba(60, 64, 67, 0.15);\n",
              "      fill: #174EA6;\n",
              "    }\n",
              "\n",
              "    [theme=dark] .colab-df-convert {\n",
              "      background-color: #3B4455;\n",
              "      fill: #D2E3FC;\n",
              "    }\n",
              "\n",
              "    [theme=dark] .colab-df-convert:hover {\n",
              "      background-color: #434B5C;\n",
              "      box-shadow: 0px 1px 3px 1px rgba(0, 0, 0, 0.15);\n",
              "      filter: drop-shadow(0px 1px 2px rgba(0, 0, 0, 0.3));\n",
              "      fill: #FFFFFF;\n",
              "    }\n",
              "  </style>\n",
              "\n",
              "      <script>\n",
              "        const buttonEl =\n",
              "          document.querySelector('#df-23c83952-142f-43d2-bbe9-9b4c47835bb2 button.colab-df-convert');\n",
              "        buttonEl.style.display =\n",
              "          google.colab.kernel.accessAllowed ? 'block' : 'none';\n",
              "\n",
              "        async function convertToInteractive(key) {\n",
              "          const element = document.querySelector('#df-23c83952-142f-43d2-bbe9-9b4c47835bb2');\n",
              "          const dataTable =\n",
              "            await google.colab.kernel.invokeFunction('convertToInteractive',\n",
              "                                                     [key], {});\n",
              "          if (!dataTable) return;\n",
              "\n",
              "          const docLinkHtml = 'Like what you see? Visit the ' +\n",
              "            '<a target=\"_blank\" href=https://colab.research.google.com/notebooks/data_table.ipynb>data table notebook</a>'\n",
              "            + ' to learn more about interactive tables.';\n",
              "          element.innerHTML = '';\n",
              "          dataTable['output_type'] = 'display_data';\n",
              "          await google.colab.output.renderOutput(dataTable, element);\n",
              "          const docLink = document.createElement('div');\n",
              "          docLink.innerHTML = docLinkHtml;\n",
              "          element.appendChild(docLink);\n",
              "        }\n",
              "      </script>\n",
              "    </div>\n",
              "  </div>\n",
              "  "
            ],
            "text/plain": [
              "  User  Average  std  zcr  centroid  ...  mfcc11  mfcc12  mfcc13  mfcc14  label\n",
              "0   AJ      0.0  0.0  0.0       0.0  ...     0.0     0.0     0.0     0.0    1.0\n",
              "1   AJ      0.0  0.0  0.0       0.0  ...     0.0     0.0     0.0     0.0    1.0\n",
              "2   AJ      0.0  0.0  0.0       0.0  ...     0.0     0.0     0.0     0.0    1.0\n",
              "3   AJ      0.0  0.0  0.0       0.0  ...     0.0     0.0     0.0     0.0    1.0\n",
              "4   AJ      0.0  0.0  0.0       0.0  ...     0.0     0.0     0.0     0.0    1.0\n",
              "\n",
              "[5 rows x 21 columns]"
            ]
          },
          "metadata": {},
          "execution_count": 4
        }
      ],
      "source": [
        "data=np.zeros([80,21]);\n",
        "featuredf  = pd.DataFrame(data, columns = ['User', 'Average', 'std', 'zcr', 'centroid', 'rollof', 'mfcc1', 'mfcc2', 'mfcc3', 'mfcc4', 'mfcc5', 'mfcc6', 'mfcc7', 'mfcc8', 'mfcc9', 'mfcc10', 'mfcc11', 'mfcc12', 'mfcc13', 'mfcc14','label'])\n",
        "featuredf.iloc[0:40,0]='AJ';\n",
        "featuredf.iloc[40:80,0]='Imposter';\n",
        "featuredf.iloc[0:40,-1]=1;\n",
        "featuredf.iloc[40:80,-1]=0;\n",
        "featuredf.head()"
      ]
    },
    {
      "cell_type": "code",
      "execution_count": null,
      "metadata": {
        "colab": {
          "base_uri": "https://localhost:8080/"
        },
        "id": "3FiZST9cgojv",
        "outputId": "6fdf8c86-913f-4abf-df81-6b1f6b6c2b1d"
      },
      "outputs": [
        {
          "output_type": "execute_result",
          "data": {
            "text/plain": [
              "22050"
            ]
          },
          "metadata": {},
          "execution_count": 5
        }
      ],
      "source": [
        "#AJ's sampling rate\n",
        "AJ1 = \"/content/drive/MyDrive/Upwork/audioathuntication/AJ/AJ (1).wav\"\n",
        "x, sr = librosa.load(AJ1)\n",
        "ipd.Audio(x, rate=sr)\n",
        "sr"
      ]
    },
    {
      "cell_type": "code",
      "execution_count": null,
      "metadata": {
        "colab": {
          "base_uri": "https://localhost:8080/"
        },
        "id": "E7NW_Pmagojv",
        "outputId": "cc371acb-b3c9-4110-ba1d-f0b6e6d97039"
      },
      "outputs": [
        {
          "output_type": "execute_result",
          "data": {
            "text/plain": [
              "22050"
            ]
          },
          "metadata": {},
          "execution_count": 6
        }
      ],
      "source": [
        "#Imposter's sampling rate\n",
        "Imposter1 = \"/content/drive/MyDrive/Upwork/audioathuntication/Imposter/Imposter (1).wav\"\n",
        "x1, sr1 = librosa.load(Imposter1)\n",
        "ipd.Audio(x1, rate=sr1)\n",
        "sr1"
      ]
    },
    {
      "cell_type": "code",
      "source": [
        "def normalize(x1, axis=0):\n",
        "    return sklearn.preprocessing.minmax_scale(x1, axis=axis)"
      ],
      "metadata": {
        "id": "YwzB3ihKNhw7"
      },
      "execution_count": null,
      "outputs": []
    },
    {
      "cell_type": "markdown",
      "metadata": {
        "id": "dy1qD4wOj7sC"
      },
      "source": [
        "# Imposter - Feature Extraction"
      ]
    },
    {
      "cell_type": "code",
      "execution_count": null,
      "metadata": {
        "id": "kYNo5RYtj7sG"
      },
      "outputs": [],
      "source": [
        "#Imposter - Zooming in\n",
        "ind=40;\n",
        "for audio in audio_list2:\n",
        "    data,sample_rate=librosa.load(audio)\n",
        "    featuredf.iloc[ind,1]=np.mean(data)\n",
        "    featuredf.iloc[ind,2]=np.std(data)  \n",
        "    zero_crossings = librosa.zero_crossings(data, pad=False)\n",
        "    spectral_centroids = librosa.feature.spectral_centroid(data, sr=sr1)[0]\n",
        "    spectral_rolloff = librosa.feature.spectral_rolloff(data+0.01, sr=sr1)[0]\n",
        "    mfccs = librosa.feature.mfcc(data, sr=sr1,n_mfcc=14)\n",
        "#Spectral Centroid\n",
        "    featuredf.iloc[ind,4]=np.mean(normalize(spectral_centroids))\n",
        "#Zero Crossings\n",
        "    featuredf.iloc[ind,3]=sum(zero_crossings)\n",
        "#Spectral Rolloff\n",
        "    featuredf.iloc[ind,5]=np.mean(normalize(spectral_rolloff))\n",
        "#mfcc\n",
        "    featuredf.iloc[ind,6:20]=np.mean(mfccs,1)\n",
        "    ind=ind+1;"
      ]
    },
    {
      "cell_type": "markdown",
      "metadata": {
        "id": "REgGo6oYj7sS"
      },
      "source": [
        "# AJ - Feature Extraction"
      ]
    },
    {
      "cell_type": "code",
      "execution_count": null,
      "metadata": {
        "id": "RHVN-5s1j7sS"
      },
      "outputs": [],
      "source": [
        "# AJ - Zooming in\n",
        "ind=0;\n",
        "for audio1 in audio_list1:\n",
        "    data1,sample_rate1=librosa.load(audio1)\n",
        "    zero_crossings1 = librosa.zero_crossings(data1, pad=False) \n",
        "    spectral_centroids1 = librosa.feature.spectral_centroid(data1, sr=sr)[0]\n",
        "    spectral_rolloff1 = librosa.feature.spectral_rolloff(data1+0.01, sr=sr)[0]\n",
        "    mfccs1 = librosa.feature.mfcc(data1, sr=sr,n_mfcc=14)\n",
        "    featuredf.iloc[ind,1]=np.mean(data1)\n",
        "    featuredf.iloc[ind,2]=np.std(data1)\n",
        "#Spectral Centroid\n",
        "    featuredf.iloc[ind,4]=np.mean(normalize(spectral_centroids1))\n",
        "#Zero Crossings\n",
        "    featuredf.iloc[ind,3]=sum(zero_crossings1)\n",
        "#Spectral Rolloff\n",
        "    featuredf.iloc[ind,5]=np.mean(normalize(spectral_rolloff1))\n",
        "#mfcc\n",
        "    featuredf.iloc[ind,6:20]=np.mean(mfccs1,1)\n",
        "    ind=ind+1;"
      ]
    },
    {
      "cell_type": "code",
      "source": [
        ""
      ],
      "metadata": {
        "id": "zkTcyXuU4RGE"
      },
      "execution_count": null,
      "outputs": []
    },
    {
      "cell_type": "code",
      "source": [
        "featuredf.head()"
      ],
      "metadata": {
        "colab": {
          "base_uri": "https://localhost:8080/",
          "height": 270
        },
        "id": "C95woaiaJnl8",
        "outputId": "bf2682d6-8652-40ee-fdca-455bd03b8d24"
      },
      "execution_count": null,
      "outputs": [
        {
          "output_type": "execute_result",
          "data": {
            "text/html": [
              "\n",
              "  <div id=\"df-98cdbef8-6fea-4e15-83d1-ff5089180e48\">\n",
              "    <div class=\"colab-df-container\">\n",
              "      <div>\n",
              "<style scoped>\n",
              "    .dataframe tbody tr th:only-of-type {\n",
              "        vertical-align: middle;\n",
              "    }\n",
              "\n",
              "    .dataframe tbody tr th {\n",
              "        vertical-align: top;\n",
              "    }\n",
              "\n",
              "    .dataframe thead th {\n",
              "        text-align: right;\n",
              "    }\n",
              "</style>\n",
              "<table border=\"1\" class=\"dataframe\">\n",
              "  <thead>\n",
              "    <tr style=\"text-align: right;\">\n",
              "      <th></th>\n",
              "      <th>User</th>\n",
              "      <th>Average</th>\n",
              "      <th>std</th>\n",
              "      <th>zcr</th>\n",
              "      <th>centroid</th>\n",
              "      <th>rollof</th>\n",
              "      <th>mfcc1</th>\n",
              "      <th>mfcc2</th>\n",
              "      <th>mfcc3</th>\n",
              "      <th>mfcc4</th>\n",
              "      <th>mfcc5</th>\n",
              "      <th>mfcc6</th>\n",
              "      <th>mfcc7</th>\n",
              "      <th>mfcc8</th>\n",
              "      <th>mfcc9</th>\n",
              "      <th>mfcc10</th>\n",
              "      <th>mfcc11</th>\n",
              "      <th>mfcc12</th>\n",
              "      <th>mfcc13</th>\n",
              "      <th>mfcc14</th>\n",
              "      <th>label</th>\n",
              "    </tr>\n",
              "  </thead>\n",
              "  <tbody>\n",
              "    <tr>\n",
              "      <th>0</th>\n",
              "      <td>AJ</td>\n",
              "      <td>0.000175</td>\n",
              "      <td>0.067028</td>\n",
              "      <td>1505.0</td>\n",
              "      <td>0.079878</td>\n",
              "      <td>0.142516</td>\n",
              "      <td>-425.435364</td>\n",
              "      <td>110.639725</td>\n",
              "      <td>33.098763</td>\n",
              "      <td>12.889438</td>\n",
              "      <td>-1.837232</td>\n",
              "      <td>-0.445507</td>\n",
              "      <td>-2.246605</td>\n",
              "      <td>-6.107216</td>\n",
              "      <td>-2.528062</td>\n",
              "      <td>-0.248629</td>\n",
              "      <td>-12.453880</td>\n",
              "      <td>-3.595620</td>\n",
              "      <td>-4.926505</td>\n",
              "      <td>-4.446347</td>\n",
              "      <td>1.0</td>\n",
              "    </tr>\n",
              "    <tr>\n",
              "      <th>1</th>\n",
              "      <td>AJ</td>\n",
              "      <td>-0.000013</td>\n",
              "      <td>0.063730</td>\n",
              "      <td>1514.0</td>\n",
              "      <td>0.448148</td>\n",
              "      <td>0.242459</td>\n",
              "      <td>-418.229279</td>\n",
              "      <td>121.052032</td>\n",
              "      <td>18.744495</td>\n",
              "      <td>21.076342</td>\n",
              "      <td>8.956787</td>\n",
              "      <td>-0.267981</td>\n",
              "      <td>-16.453539</td>\n",
              "      <td>-7.144414</td>\n",
              "      <td>-3.149678</td>\n",
              "      <td>0.042572</td>\n",
              "      <td>-12.427893</td>\n",
              "      <td>-6.400948</td>\n",
              "      <td>-2.374579</td>\n",
              "      <td>-4.743773</td>\n",
              "      <td>1.0</td>\n",
              "    </tr>\n",
              "    <tr>\n",
              "      <th>2</th>\n",
              "      <td>AJ</td>\n",
              "      <td>0.000019</td>\n",
              "      <td>0.050663</td>\n",
              "      <td>3986.0</td>\n",
              "      <td>0.323284</td>\n",
              "      <td>0.390214</td>\n",
              "      <td>-430.028107</td>\n",
              "      <td>93.152382</td>\n",
              "      <td>27.714996</td>\n",
              "      <td>27.186514</td>\n",
              "      <td>10.140581</td>\n",
              "      <td>6.420453</td>\n",
              "      <td>-4.152555</td>\n",
              "      <td>10.403549</td>\n",
              "      <td>-1.266430</td>\n",
              "      <td>6.145259</td>\n",
              "      <td>-7.084801</td>\n",
              "      <td>-1.031853</td>\n",
              "      <td>1.062626</td>\n",
              "      <td>-1.968950</td>\n",
              "      <td>1.0</td>\n",
              "    </tr>\n",
              "    <tr>\n",
              "      <th>3</th>\n",
              "      <td>AJ</td>\n",
              "      <td>0.000058</td>\n",
              "      <td>0.059020</td>\n",
              "      <td>1668.0</td>\n",
              "      <td>0.326165</td>\n",
              "      <td>0.350424</td>\n",
              "      <td>-369.942169</td>\n",
              "      <td>104.334633</td>\n",
              "      <td>24.363705</td>\n",
              "      <td>26.232740</td>\n",
              "      <td>6.363106</td>\n",
              "      <td>4.713255</td>\n",
              "      <td>-16.766659</td>\n",
              "      <td>5.110753</td>\n",
              "      <td>-6.248245</td>\n",
              "      <td>7.379821</td>\n",
              "      <td>-13.206908</td>\n",
              "      <td>-0.928696</td>\n",
              "      <td>-4.179599</td>\n",
              "      <td>-8.380135</td>\n",
              "      <td>1.0</td>\n",
              "    </tr>\n",
              "    <tr>\n",
              "      <th>4</th>\n",
              "      <td>AJ</td>\n",
              "      <td>0.000028</td>\n",
              "      <td>0.043197</td>\n",
              "      <td>2000.0</td>\n",
              "      <td>0.142124</td>\n",
              "      <td>0.384404</td>\n",
              "      <td>-430.498810</td>\n",
              "      <td>90.099716</td>\n",
              "      <td>30.317093</td>\n",
              "      <td>33.402557</td>\n",
              "      <td>9.031054</td>\n",
              "      <td>9.912164</td>\n",
              "      <td>-12.696789</td>\n",
              "      <td>2.966057</td>\n",
              "      <td>-2.904612</td>\n",
              "      <td>10.308959</td>\n",
              "      <td>-12.165601</td>\n",
              "      <td>2.361983</td>\n",
              "      <td>-2.579911</td>\n",
              "      <td>-5.428612</td>\n",
              "      <td>1.0</td>\n",
              "    </tr>\n",
              "  </tbody>\n",
              "</table>\n",
              "</div>\n",
              "      <button class=\"colab-df-convert\" onclick=\"convertToInteractive('df-98cdbef8-6fea-4e15-83d1-ff5089180e48')\"\n",
              "              title=\"Convert this dataframe to an interactive table.\"\n",
              "              style=\"display:none;\">\n",
              "        \n",
              "  <svg xmlns=\"http://www.w3.org/2000/svg\" height=\"24px\"viewBox=\"0 0 24 24\"\n",
              "       width=\"24px\">\n",
              "    <path d=\"M0 0h24v24H0V0z\" fill=\"none\"/>\n",
              "    <path d=\"M18.56 5.44l.94 2.06.94-2.06 2.06-.94-2.06-.94-.94-2.06-.94 2.06-2.06.94zm-11 1L8.5 8.5l.94-2.06 2.06-.94-2.06-.94L8.5 2.5l-.94 2.06-2.06.94zm10 10l.94 2.06.94-2.06 2.06-.94-2.06-.94-.94-2.06-.94 2.06-2.06.94z\"/><path d=\"M17.41 7.96l-1.37-1.37c-.4-.4-.92-.59-1.43-.59-.52 0-1.04.2-1.43.59L10.3 9.45l-7.72 7.72c-.78.78-.78 2.05 0 2.83L4 21.41c.39.39.9.59 1.41.59.51 0 1.02-.2 1.41-.59l7.78-7.78 2.81-2.81c.8-.78.8-2.07 0-2.86zM5.41 20L4 18.59l7.72-7.72 1.47 1.35L5.41 20z\"/>\n",
              "  </svg>\n",
              "      </button>\n",
              "      \n",
              "  <style>\n",
              "    .colab-df-container {\n",
              "      display:flex;\n",
              "      flex-wrap:wrap;\n",
              "      gap: 12px;\n",
              "    }\n",
              "\n",
              "    .colab-df-convert {\n",
              "      background-color: #E8F0FE;\n",
              "      border: none;\n",
              "      border-radius: 50%;\n",
              "      cursor: pointer;\n",
              "      display: none;\n",
              "      fill: #1967D2;\n",
              "      height: 32px;\n",
              "      padding: 0 0 0 0;\n",
              "      width: 32px;\n",
              "    }\n",
              "\n",
              "    .colab-df-convert:hover {\n",
              "      background-color: #E2EBFA;\n",
              "      box-shadow: 0px 1px 2px rgba(60, 64, 67, 0.3), 0px 1px 3px 1px rgba(60, 64, 67, 0.15);\n",
              "      fill: #174EA6;\n",
              "    }\n",
              "\n",
              "    [theme=dark] .colab-df-convert {\n",
              "      background-color: #3B4455;\n",
              "      fill: #D2E3FC;\n",
              "    }\n",
              "\n",
              "    [theme=dark] .colab-df-convert:hover {\n",
              "      background-color: #434B5C;\n",
              "      box-shadow: 0px 1px 3px 1px rgba(0, 0, 0, 0.15);\n",
              "      filter: drop-shadow(0px 1px 2px rgba(0, 0, 0, 0.3));\n",
              "      fill: #FFFFFF;\n",
              "    }\n",
              "  </style>\n",
              "\n",
              "      <script>\n",
              "        const buttonEl =\n",
              "          document.querySelector('#df-98cdbef8-6fea-4e15-83d1-ff5089180e48 button.colab-df-convert');\n",
              "        buttonEl.style.display =\n",
              "          google.colab.kernel.accessAllowed ? 'block' : 'none';\n",
              "\n",
              "        async function convertToInteractive(key) {\n",
              "          const element = document.querySelector('#df-98cdbef8-6fea-4e15-83d1-ff5089180e48');\n",
              "          const dataTable =\n",
              "            await google.colab.kernel.invokeFunction('convertToInteractive',\n",
              "                                                     [key], {});\n",
              "          if (!dataTable) return;\n",
              "\n",
              "          const docLinkHtml = 'Like what you see? Visit the ' +\n",
              "            '<a target=\"_blank\" href=https://colab.research.google.com/notebooks/data_table.ipynb>data table notebook</a>'\n",
              "            + ' to learn more about interactive tables.';\n",
              "          element.innerHTML = '';\n",
              "          dataTable['output_type'] = 'display_data';\n",
              "          await google.colab.output.renderOutput(dataTable, element);\n",
              "          const docLink = document.createElement('div');\n",
              "          docLink.innerHTML = docLinkHtml;\n",
              "          element.appendChild(docLink);\n",
              "        }\n",
              "      </script>\n",
              "    </div>\n",
              "  </div>\n",
              "  "
            ],
            "text/plain": [
              "  User   Average       std     zcr  ...    mfcc12    mfcc13    mfcc14  label\n",
              "0   AJ  0.000175  0.067028  1505.0  ... -3.595620 -4.926505 -4.446347    1.0\n",
              "1   AJ -0.000013  0.063730  1514.0  ... -6.400948 -2.374579 -4.743773    1.0\n",
              "2   AJ  0.000019  0.050663  3986.0  ... -1.031853  1.062626 -1.968950    1.0\n",
              "3   AJ  0.000058  0.059020  1668.0  ... -0.928696 -4.179599 -8.380135    1.0\n",
              "4   AJ  0.000028  0.043197  2000.0  ...  2.361983 -2.579911 -5.428612    1.0\n",
              "\n",
              "[5 rows x 21 columns]"
            ]
          },
          "metadata": {},
          "execution_count": 11
        }
      ]
    },
    {
      "cell_type": "code",
      "execution_count": null,
      "metadata": {
        "id": "q1xhH0ldgoj8"
      },
      "outputs": [],
      "source": [
        "featuredf.to_csv(\"/content/drive/MyDrive/Upwork/audioathuntication/Features3.csv\", header=True, index=False)  "
      ]
    },
    {
      "cell_type": "markdown",
      "source": [
        "# Classification\n",
        "we have 19 features for  classification i.e avg.std,spectral rollof ,spectral centroid and 14 MFCCs. since  we had 80 data samples  40 authentic and 40 imposter, the size of feature matrix is 80*19 .For classification we will use 80% of dat for traning and 20% data for teting ,both  traning abd testing data sample will  be choosen randomly.\n",
        "<br> we will use  log regression,SVM ,KNN,Naivebayes and Decisiontre classifier to asscess  feature matrix and classification result"
      ],
      "metadata": {
        "id": "s5qNBb0SwcUr"
      }
    },
    {
      "cell_type": "code",
      "source": [
        "# Import necessary modules\n",
        "from sklearn.model_selection import train_test_split\n",
        "from sklearn.metrics import mean_squared_error\n",
        "from math import sqrt\n",
        "# Keras specific\n",
        "import keras\n",
        "from sklearn.linear_model import LogisticRegression;\n",
        "from sklearn.metrics import classification_report;\n",
        "from sklearn.metrics import roc_auc_score\n",
        "from sklearn.metrics import roc_curve\n",
        "from sklearn.metrics import accuracy_score\n",
        "import seaborn as sns\n",
        "from sklearn.metrics import confusion_matrix\n",
        "from sklearn.preprocessing import StandardScaler"
      ],
      "metadata": {
        "id": "9SPb7oIM0qaM"
      },
      "execution_count": null,
      "outputs": []
    },
    {
      "cell_type": "code",
      "execution_count": null,
      "metadata": {
        "id": "qc5gBYE_gokA",
        "colab": {
          "base_uri": "https://localhost:8080/"
        },
        "outputId": "8cf27ca4-f4ea-4b56-b0d4-c6cb49dbab3a"
      },
      "outputs": [
        {
          "output_type": "stream",
          "name": "stdout",
          "text": [
            "(80, 19)\n",
            "(80,)\n",
            "(64, 19) (64,)\n",
            "(16, 19) (16,)\n"
          ]
        }
      ],
      "source": [
        "\n",
        "\n",
        "\n",
        "y=featuredf.label  # extract labels from dataframe\n",
        "x=featuredf.drop(['label','User'],axis=1)   # extract  all feature from dataframe by removing rest of data \n",
        "print(x.shape)\n",
        "print(y.shape)\n",
        "x_train,x_test,y_train,y_test=train_test_split(x,y,test_size=0.2,random_state=40) #split the  feature in test and traing set (80% traning data 20% testing data)\n",
        "scaler = StandardScaler()  # normalize data for fast cobergence\n",
        "scaler.fit(x_train)  \n",
        "\n",
        "x_train = scaler.transform(x_train)  #normalize traning data\n",
        "x_test = scaler.transform(x_test)  #normalize testing data\n",
        "print(x_train.shape,y_train.shape)\n",
        "print(x_test.shape,y_test.shape)\n"
      ]
    },
    {
      "cell_type": "markdown",
      "source": [
        "##logregression\n",
        "Eventhough, the name ‘Regression’ comes up, it is not a regression model, but a classification model. It uses a logistic function to frame binary output model. The output of the logistic regression will be a probability (0≤x≤1), and can be used to predict the binary 0 or 1 as the output ( if x<0.5, output= 0, else output=1)."
      ],
      "metadata": {
        "id": "vKftFDqiHNox"
      }
    },
    {
      "cell_type": "code",
      "source": [
        "logreg = LogisticRegression();   # create classfier\n",
        "logreg.fit(x_train,y_train);     # tain classifieer\n",
        "y_pred = logreg.predict(x_test);  # test calssifer\n",
        "cf_matrix = confusion_matrix(y_test, y_pred);   # calculte confusion matrix\n",
        "print(\"\\nTest confusion_matrix\")\n",
        "sns.heatmap(cf_matrix, annot=True, cmap='Blues')   # plot confusion matrix\n",
        "plt.xlabel('Predicted', fontsize=12)\n",
        "plt.ylabel('True', fontsize=12)\n",
        "print(classification_report(y_test, y_pred))    # print classification repost with ACC prcision recal and F1 scores\n",
        "print('ACC:'+ \"{0:.3f}\".format(accuracy_score(y_test, y_pred)))   # test ing accuracy\n",
        "print('AUC:'+\"{0:.3f}\".format(roc_auc_score(y_test, y_pred)))    # area under the curve score"
      ],
      "metadata": {
        "colab": {
          "base_uri": "https://localhost:8080/",
          "height": 511
        },
        "id": "x_kHrRjN4WTs",
        "outputId": "964b9d63-2d8e-49e5-998e-09409aac520e"
      },
      "execution_count": null,
      "outputs": [
        {
          "output_type": "stream",
          "name": "stdout",
          "text": [
            "\n",
            "Test confusion_matrix\n",
            "              precision    recall  f1-score   support\n",
            "\n",
            "         0.0       1.00      1.00      1.00         8\n",
            "         1.0       1.00      1.00      1.00         8\n",
            "\n",
            "    accuracy                           1.00        16\n",
            "   macro avg       1.00      1.00      1.00        16\n",
            "weighted avg       1.00      1.00      1.00        16\n",
            "\n",
            "ACC:1.000\n",
            "AUC:1.000\n"
          ]
        },
        {
          "output_type": "display_data",
          "data": {
            "image/png": "[encoded data removed]",
            "text/plain": [
              "<Figure size 432x288 with 2 Axes>"
            ]
          },
          "metadata": {
            "needs_background": "light"
          }
        }
      ]
    },
    {
      "cell_type": "markdown",
      "source": [
        "##SVM\n",
        "Support Vector Machine” (SVM) is a supervised machine learning algorithm that can be used for both classification or regression challenges. However,  it is mostly used in classification problems. In the SVM algorithm, we plot each data item as a point in n-dimensional space (where n is a number of features you have) with the value of each feature being the value of a particular coordinate. Then, we perform classification by finding the hyper-plane that differentiates the two classes very well "
      ],
      "metadata": {
        "id": "TH15xHVDHTU_"
      }
    },
    {
      "cell_type": "code",
      "source": [
        "from sklearn.svm import SVC\n",
        "from sklearn.model_selection import GridSearchCV\n",
        "from sklearn.model_selection import LeavePGroupsOut\n",
        "from sklearn.model_selection import KFold\n",
        "from sklearn.metrics import accuracy_score\n",
        "####SVm with linear\n",
        "###C list as [1,10]\n",
        "###leave 4 groups out\n",
        "clSvm = SVC(kernel = 'linear')   # sVM with leniear kernal\n",
        "p = {'kernel':('linear',), 'C':[0.001,0.1,1,10]}\n",
        "clSvm= GridSearchCV(clSvm, p,cv = KFold(4))  # kfold cross valdation  4 folds \n",
        "clSvm.fit(x_train, y_train )\n",
        "y_pred = clSvm.predict(x_test)\n",
        "print('ACC:'+ \"{0:.3f}\".format(accuracy_score(y_test, y_pred)))\n",
        "print('AUC:'+\"{0:.3f}\".format(roc_auc_score(y_test, y_pred)))\n",
        "\n",
        "cf_matrix = confusion_matrix(y_test, y_pred)\n",
        "print(\"\\nTest confusion_matrix\")\n",
        "sns.heatmap(cf_matrix, annot=True, cmap='Blues')\n",
        "plt.xlabel('Predicted', fontsize=12)\n",
        "plt.ylabel('True', fontsize=12)\n",
        "print(classification_report(y_test, y_pred))"
      ],
      "metadata": {
        "colab": {
          "base_uri": "https://localhost:8080/",
          "height": 511
        },
        "id": "4fSn2fem2Hh7",
        "outputId": "5c4a63a1-c4a6-4398-af37-7a25d6387569"
      },
      "execution_count": null,
      "outputs": [
        {
          "output_type": "stream",
          "name": "stdout",
          "text": [
            "ACC:1.000\n",
            "AUC:1.000\n",
            "\n",
            "Test confusion_matrix\n",
            "              precision    recall  f1-score   support\n",
            "\n",
            "         0.0       1.00      1.00      1.00         8\n",
            "         1.0       1.00      1.00      1.00         8\n",
            "\n",
            "    accuracy                           1.00        16\n",
            "   macro avg       1.00      1.00      1.00        16\n",
            "weighted avg       1.00      1.00      1.00        16\n",
            "\n"
          ]
        },
        {
          "output_type": "display_data",
          "data": {
            "image/png": "[encoded data removed]",
            "text/plain": [
              "<Figure size 432x288 with 2 Axes>"
            ]
          },
          "metadata": {
            "needs_background": "light"
          }
        }
      ]
    },
    {
      "cell_type": "markdown",
      "source": [
        "## Naivebayes\n",
        "Naive Bayes classifiers are a collection of classification algorithms based on Bayes’ Theorem. It is not a single algorithm but a family of algorithms where all of them share a common principle, i.e. every pair of features being classified is independent of each other."
      ],
      "metadata": {
        "id": "JOAkI0xwHX5G"
      }
    },
    {
      "cell_type": "code",
      "source": [
        "from sklearn.naive_bayes import GaussianNB\n",
        "model = GaussianNB()\n",
        "model.fit(x_train,y_train)\n",
        "y_pred= model.predict(x_test)\n",
        "\n",
        "\n",
        "cf_matrix = confusion_matrix(y_test, y_pred)\n",
        "print(\"\\nTest confusion_matrix\")\n",
        "sns.heatmap(cf_matrix, annot=True, cmap='Blues')\n",
        "plt.xlabel('Predicted', fontsize=12)\n",
        "plt.ylabel('True', fontsize=12)\n",
        "\n",
        "print(classification_report(y_test, y_pred))\n",
        "print('ACC:'+ \"{0:.3f}\".format(accuracy_score(y_test, y_pred)))\n",
        "print('AUC:'+\"{0:.3f}\".format(roc_auc_score(y_test, y_pred)))"
      ],
      "metadata": {
        "colab": {
          "base_uri": "https://localhost:8080/",
          "height": 511
        },
        "id": "HQ9zBbXi-I8R",
        "outputId": "d541676f-a6c7-43ce-d2b7-122d48ec6c77"
      },
      "execution_count": null,
      "outputs": [
        {
          "output_type": "stream",
          "name": "stdout",
          "text": [
            "\n",
            "Test confusion_matrix\n",
            "              precision    recall  f1-score   support\n",
            "\n",
            "         0.0       1.00      0.75      0.86         8\n",
            "         1.0       0.80      1.00      0.89         8\n",
            "\n",
            "    accuracy                           0.88        16\n",
            "   macro avg       0.90      0.88      0.87        16\n",
            "weighted avg       0.90      0.88      0.87        16\n",
            "\n",
            "ACC:0.875\n",
            "AUC:0.875\n"
          ]
        },
        {
          "output_type": "display_data",
          "data": {
            "image/png": "[encoded data removed]",
            "text/plain": [
              "<Figure size 432x288 with 2 Axes>"
            ]
          },
          "metadata": {
            "needs_background": "light"
          }
        }
      ]
    },
    {
      "cell_type": "markdown",
      "source": [
        "##Decision  tree\n",
        "Decision tree is derived from the independent variables, with each node having a condition over a feature.The nodes decides which node to navigate next based on the condition. Once the leaf node is reached, an output is predicted. The right sequence of conditions makes the tree efficient. entropy/Information gain are used as the criteria to select the conditions in nodes. A recursive, greedy based algorithm is used to derive the tree structure."
      ],
      "metadata": {
        "id": "NdYVKndEKCuv"
      }
    },
    {
      "cell_type": "code",
      "source": [
        "from sklearn.tree import DecisionTreeClassifier;\n",
        "dt_clf = DecisionTreeClassifier()\n",
        "dt_clf.fit(x_train,y_train)\n",
        "y_pred = dt_clf.predict(x_test)\n",
        "\n",
        "cf_matrix = confusion_matrix(y_test, y_pred)\n",
        "print(\"\\nTest confusion_matrix\")\n",
        "sns.heatmap(cf_matrix, annot=True, cmap='Blues')\n",
        "plt.xlabel('Predicted', fontsize=12)\n",
        "plt.ylabel('True', fontsize=12)\n",
        "\n",
        "print(classification_report(y_test, y_pred))\n",
        "print('ACC:'+ \"{0:.3f}\".format(accuracy_score(y_test, y_pred)))\n",
        "print('AUC:'+\"{0:.3f}\".format(roc_auc_score(y_test, y_pred)))"
      ],
      "metadata": {
        "colab": {
          "base_uri": "https://localhost:8080/",
          "height": 512
        },
        "id": "SAI_8knQ__8G",
        "outputId": "6a753509-5b70-4800-9200-48643793a777"
      },
      "execution_count": null,
      "outputs": [
        {
          "output_type": "stream",
          "name": "stdout",
          "text": [
            "\n",
            "Test confusion_matrix\n",
            "              precision    recall  f1-score   support\n",
            "\n",
            "         0.0       1.00      1.00      1.00         8\n",
            "         1.0       1.00      1.00      1.00         8\n",
            "\n",
            "    accuracy                           1.00        16\n",
            "   macro avg       1.00      1.00      1.00        16\n",
            "weighted avg       1.00      1.00      1.00        16\n",
            "\n",
            "ACC:1.000\n",
            "AUC:1.000\n"
          ]
        },
        {
          "output_type": "display_data",
          "data": {
            "image/png": "[encoded data removed]",
            "text/plain": [
              "<Figure size 432x288 with 2 Axes>"
            ]
          },
          "metadata": {
            "needs_background": "light"
          }
        }
      ]
    },
    {
      "cell_type": "markdown",
      "source": [
        "##KNN\n",
        "The basic logic behind KNN is to explore your neighborhood, assume the test datapoint to be similar to them and derive the output. In KNN, we look for k neighbors and come up with the prediction."
      ],
      "metadata": {
        "id": "AvwIwGZvNLI2"
      }
    },
    {
      "cell_type": "code",
      "source": [
        "from sklearn.neighbors import KNeighborsClassifier\n",
        "knnclf = KNeighborsClassifier(n_neighbors=5)  ##knn with 5 nearest neigbours\n",
        "knnclf.fit(x_train, y_train)   \n",
        "y_pred = knnclf.predict(x_test)\n",
        "\n",
        "cf_matrix = confusion_matrix(y_test, y_pred)\n",
        "print(\"\\nTest confusion_matrix\")\n",
        "sns.heatmap(cf_matrix, annot=True, cmap='Blues')\n",
        "plt.xlabel('Predicted', fontsize=12)\n",
        "plt.ylabel('True', fontsize=12)\n",
        "\n",
        "print(classification_report(y_test, y_pred))\n",
        "print('ACC:'+ \"{0:.3f}\".format(accuracy_score(y_test, y_pred)))\n",
        "print('AUC:'+\"{0:.3f}\".format(roc_auc_score(y_test, y_pred)))"
      ],
      "metadata": {
        "colab": {
          "base_uri": "https://localhost:8080/",
          "height": 512
        },
        "id": "tCc_Y7m8NWtz",
        "outputId": "2e925797-f91c-4b44-8e74-87f4e3835575"
      },
      "execution_count": null,
      "outputs": [
        {
          "output_type": "stream",
          "name": "stdout",
          "text": [
            "\n",
            "Test confusion_matrix\n",
            "              precision    recall  f1-score   support\n",
            "\n",
            "         0.0       0.89      1.00      0.94         8\n",
            "         1.0       1.00      0.88      0.93         8\n",
            "\n",
            "    accuracy                           0.94        16\n",
            "   macro avg       0.94      0.94      0.94        16\n",
            "weighted avg       0.94      0.94      0.94        16\n",
            "\n",
            "ACC:0.938\n",
            "AUC:0.938\n"
          ]
        },
        {
          "output_type": "display_data",
          "data": {
            "image/png": "[encoded data removed]",
            "text/plain": [
              "<Figure size 432x288 with 2 Axes>"
            ]
          },
          "metadata": {
            "needs_background": "light"
          }
        }
      ]
    },
    {
      "cell_type": "code",
      "source": [
        ""
      ],
      "metadata": {
        "id": "jzfV8SnBNvkf"
      },
      "execution_count": null,
      "outputs": []
    }
  ],
  "metadata": {
    "colab": {
      "collapsed_sections": [],
      "name": "Feature_Extraction_020422v1.ipynb",
      "provenance": []
    },
    "kernelspec": {
      "display_name": "Python 3",
      "language": "python",
      "name": "python3"
    },
    "language_info": {
      "codemirror_mode": {
        "name": "ipython",
        "version": 3
      },
      "file_extension": ".py",
      "mimetype": "text/x-python",
      "name": "python",
      "nbconvert_exporter": "python",
      "pygments_lexer": "ipython3",
      "version": "3.8.5"
    }
  },
  "nbformat": 4,
  "nbformat_minor": 0
}